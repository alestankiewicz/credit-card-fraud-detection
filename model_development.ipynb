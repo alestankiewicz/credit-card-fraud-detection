{
 "cells": [
  {
   "cell_type": "markdown",
   "metadata": {},
   "source": [
    "## Project goal\n",
    "\n",
    "This notebook explores various ways of detecting whether a transaction is fraudulent. The goal is to build a machine learning model that detects frauds accurately and minimizes false postives. To achive that it is crucial to handle data imbalance which is common in fraud detection problems. "
   ]
  },
  {
   "cell_type": "code",
   "execution_count": 17,
   "metadata": {},
   "outputs": [],
   "source": [
    "import pandas as pd\n",
    "import numpy as np\n",
    "import matplotlib.pyplot as plt\n",
    "import seaborn as sns\n",
    "import plotly.express as px\n",
    "import plotly.graph_objects as go\n",
    "\n",
    "import xgboost as xgb\n",
    "\n",
    "from scipy.stats import randint, uniform\n",
    "\n",
    "from sklearn.model_selection import (\n",
    "    train_test_split,\n",
    "    RandomizedSearchCV,\n",
    "    cross_val_score,\n",
    "    StratifiedKFold,\n",
    ")\n",
    "from sklearn.metrics import (\n",
    "    f1_score,\n",
    "    recall_score,\n",
    "    precision_score,\n",
    "    accuracy_score,\n",
    "    roc_auc_score,\n",
    "    average_precision_score,\n",
    "    classification_report,\n",
    "    confusion_matrix,\n",
    "    ConfusionMatrixDisplay,\n",
    ")\n",
    "\n",
    "from sklearn.ensemble import RandomForestClassifier\n",
    "from sklearn.preprocessing import StandardScaler\n",
    "\n",
    "from imblearn.over_sampling import SMOTE\n",
    "from imblearn.pipeline import Pipeline\n",
    "\n",
    "import shap\n",
    "\n",
    "from sklearn.tree import export_graphviz\n",
    "from IPython.display import Image\n",
    "import graphviz"
   ]
  },
  {
   "cell_type": "markdown",
   "metadata": {},
   "source": [
    "Data was sourced from Kaggle: https://www.kaggle.com/datasets/mlg-ulb/creditcardfraud/data\n",
    "\n",
    "This creditcard.csv is made available under the Open Database License: http://opendatacommons.org/licenses/odbl/1.0/. Any rights in individual contents of the database are licensed under the Database Contents License: http://opendatacommons.org/licenses/dbcl/1.0/\n"
   ]
  },
  {
   "cell_type": "code",
   "execution_count": 2,
   "metadata": {},
   "outputs": [],
   "source": [
    "credit_card_scaled = pd.read_parquet(\"credit_card_scaled.parquet\")"
   ]
  },
  {
   "cell_type": "markdown",
   "metadata": {},
   "source": [
    "Why do we create a sub-Sample?\n",
    "In the beginning of this notebook we saw that the original dataframe was heavily imbalanced! Using the original dataframe will cause the following issues:\n",
    "\n",
    "Overfitting: Our classification models will assume that in most cases there are no frauds! What we want for our model is to be certain when a fraud occurs.\n",
    "Wrong Correlations: Although we don't know what the \"V\" features stand for, it will be useful to understand how each of this features influence the result (Fraud or No Fraud) by having an imbalance dataframe we are not able to see the true correlations between the class and features.\n",
    "Subsampling a training set, either undersampling or oversampling the appropriate class or classes, can be a helpful approach to dealing with classification data where one or more classes occur very infrequently. In such a situation (without compensating for it), most models will overfit to the majority class and produce very good statistics for the class containing the frequently occurring classes while the minority classes have poor performance."
   ]
  },
  {
   "cell_type": "markdown",
   "metadata": {},
   "source": [
    "random under-sample and SMOTE and Cost-Sensitive Learning"
   ]
  },
  {
   "cell_type": "markdown",
   "metadata": {},
   "source": [
    "Random Forest (RF) and Decision Trees - they can handle imbalanced data because of their inherent ability to find decision boundaries that separate classes well.\n",
    "Ensemble methods like AdaBoost, rfoost, LightGBM, or CatBoost, Bagging, or Stacking with base learners that handle imbalanced data well can be quite effective."
   ]
  },
  {
   "cell_type": "markdown",
   "metadata": {},
   "source": [
    "Anomaly detection is a specialized technique for handling data imbalance in\n",
    "machine learning, particularly when one class (the anomaly or rare event) is\n",
    "vastly outnumbered by the other class (normal or majority class).\n",
    "K-Means Clustering, Isolation Forest is a tree-based method that isolates anomalies by creating a random forest of decision trees. Anomalies\n",
    "are expected to require fewer splits to be isolated"
   ]
  },
  {
   "cell_type": "markdown",
   "metadata": {},
   "source": [
    "random under-sample"
   ]
  },
  {
   "cell_type": "code",
   "execution_count": 4,
   "metadata": {},
   "outputs": [],
   "source": [
    "X = credit_card_scaled.drop(columns=[\"Class\"])\n",
    "y = credit_card_scaled[\"Class\"]\n",
    "\n",
    "# Train (80%) and Test (20%) from original data set before undersampling \n",
    "X_train, X_test, y_train, y_test = train_test_split(\n",
    "    X, y, test_size=0.2, random_state=11, stratify=y\n",
    ")\n"
   ]
  },
  {
   "cell_type": "code",
   "execution_count": 5,
   "metadata": {},
   "outputs": [
    {
     "name": "stdout",
     "output_type": "stream",
     "text": [
      "(227845, 30) (56962, 30)\n",
      "Class\n",
      "0    227451\n",
      "1       394\n",
      "Name: count, dtype: int64\n",
      "Class\n",
      "0    0.998271\n",
      "1    0.001729\n",
      "Name: count, dtype: float64\n",
      "Class\n",
      "0    56864\n",
      "1       98\n",
      "Name: count, dtype: int64\n",
      "Class\n",
      "0    0.99828\n",
      "1    0.00172\n",
      "Name: count, dtype: float64\n"
     ]
    }
   ],
   "source": [
    "print(X_train.shape, X_test.shape)\n",
    "print(y_train.value_counts())\n",
    "print(y_train.value_counts()/y_train.count())\n",
    "print(y_test.value_counts())\n",
    "print(y_test.value_counts()/y_test.count())"
   ]
  },
  {
   "cell_type": "code",
   "execution_count": 6,
   "metadata": {},
   "outputs": [],
   "source": [
    "frauds = credit_card_scaled[credit_card_scaled.Class == 1]\n",
    "no_frauds = credit_card_scaled[credit_card_scaled.Class == 0]"
   ]
  },
  {
   "cell_type": "code",
   "execution_count": 7,
   "metadata": {},
   "outputs": [
    {
     "data": {
      "text/plain": [
       "Class\n",
       "1    492\n",
       "0    492\n",
       "Name: count, dtype: int64"
      ]
     },
     "execution_count": 7,
     "metadata": {},
     "output_type": "execute_result"
    }
   ],
   "source": [
    "undersample_df = pd.concat([frauds, no_frauds.sample(n=len(frauds), random_state=11)])\n",
    "undersample_df[\"Class\"].value_counts()"
   ]
  },
  {
   "cell_type": "code",
   "execution_count": 8,
   "metadata": {},
   "outputs": [],
   "source": [
    "# shuffling data\n",
    "undersample_df = undersample_df.sample(frac=1, random_state=11)"
   ]
  },
  {
   "cell_type": "markdown",
   "metadata": {},
   "source": [
    "The \"average_precision\" scoring metric (also known as area under the precision-recall curve) is particularly well-suited for fraud detection because:\n",
    "\n",
    "It focuses specifically on the positive class (fraud) performance\n",
    "It evaluates the model across different classification thresholds\n",
    "It isn't influenced by the large number of true negatives that dominate in highly imbalanced datasets\n",
    "\n",
    "This metric will help you find model parameters that maximize your ability to detect fraud cases while minimizing false positives, which is exactly what you want for this type of problem."
   ]
  },
  {
   "cell_type": "code",
   "execution_count": null,
   "metadata": {},
   "outputs": [],
   "source": [
    "skf = StratifiedKFold(n_splits=5, random_state=None, shuffle=False)\n",
    "# X and y for undersample: \n",
    "X_us = undersample_df.drop(columns=[\"Class\"]) \n",
    "y_us = undersample_df[\"Class\"]\n",
    "\n",
    "X_train_us, X_test_us, y_train_us, y_test_us = train_test_split(X_us, y_us, test_size=0.3, random_state= 11, stratify=y_us)\n",
    "\n",
    "results_us_test = []\n",
    "\n",
    "rf_search_space = {\n",
    "    'n_estimators': range(10, 101),\n",
    "    'criterion': ['gini', 'entropy'],\n",
    "    'max_depth': range(2, 51),\n",
    "    'min_samples_split': range(2, 11),\n",
    "    'min_samples_leaf': range(1, 11),\n",
    "    'max_features': ['sqrt', 'log2', None],\n",
    "    'bootstrap': [True, False]\n",
    "}\n",
    "\n",
    "xgb_search_space = {\n",
    "    \"max_depth\": randint(3, 10),\n",
    "    \"learning_rate\": uniform(0.01, 0.1),\n",
    "    \"n_estimators\": randint(100, 1000),\n",
    "    \"subsample\": uniform(0.5, 0.5),\n",
    "    \"colsample_bytree\": uniform(0.5, 0.5),\n",
    "}\n",
    "    \n",
    "rf_model_us = RandomForestClassifier()\n",
    "search_rf_us = RandomizedSearchCV(n_iter=50, estimator= rf_model_us, param_distributions=rf_search_space,\n",
    "                              cv= skf, verbose= 2, n_jobs= -1, scoring=\"balanced_accuracy\")\n",
    "search_rf_us.fit(X_train_us, y_train_us)\n",
    "\n",
    "params_rf_us = search_rf_us.best_params_\n",
    "best_rf_us = RandomForestClassifier(**params_rf_us)\n",
    "best_rf_us.fit(X_train_us, y_train_us)\n",
    "pred_rf_us = best_rf_us.predict(X_test_us)\n",
    "\n",
    "xgb_model_us = xgb.XGBClassifier()\n",
    "search_xgb_us = RandomizedSearchCV(n_iter=50, estimator= xgb_model_us, param_distributions=xgb_search_space,\n",
    "                              cv= skf, verbose= 2, n_jobs= -1, scoring=\"balanced_accuracy\")\n",
    "search_xgb_us.fit(X_train_us, y_train_us)\n",
    "params_xgb_us = search_xgb_us.best_params_\n",
    "best_xgb_us = xgb.XGBClassifier(**params_xgb_us)\n",
    "best_xgb_us.fit(X_train_us, y_train_us)\n",
    "pred_xgb_us = best_xgb_us.predict(X_test_us)\n"
   ]
  },
  {
   "cell_type": "code",
   "execution_count": null,
   "metadata": {},
   "outputs": [],
   "source": [
    "print(\"Results for Random Forest model with undersampling on undersampled test: \")\n",
    "print(classification_report(y_test_us, pred_rf_us))\n",
    "plt = ConfusionMatrixDisplay(confusion_matrix(y_test_us, pred_rf_us))\n",
    "plt.plot()\n",
    "\n"
   ]
  },
  {
   "cell_type": "code",
   "execution_count": null,
   "metadata": {},
   "outputs": [],
   "source": [
    "print(\"Results for XGBoost model with undersampling on undersampled test: \")\n",
    "print(classification_report(y_test_us, pred_xgb_us))\n",
    "plt = ConfusionMatrixDisplay(confusion_matrix(y_test_us, pred_xgb_us))\n",
    "plt.plot()"
   ]
  },
  {
   "cell_type": "code",
   "execution_count": null,
   "metadata": {},
   "outputs": [],
   "source": [
    "pred_rf_us_original = best_rf_us.predict(X_test)\n",
    "\n",
    "print(\"Results for Random Forest model with undersampling on original test: \")\n",
    "print(classification_report(y_test, pred_rf_us_original))\n",
    "plt = ConfusionMatrixDisplay(confusion_matrix(y_test, pred_rf_us_original))\n",
    "plt.plot()"
   ]
  },
  {
   "cell_type": "code",
   "execution_count": null,
   "metadata": {},
   "outputs": [],
   "source": [
    "pred_xgb_us_original = best_xgb_us.predict(X_test)\n",
    "\n",
    "print(\"Results for XGBoost model with undersampling on original test: \")\n",
    "print(classification_report(y_test, pred_xgb_us_original))\n",
    "plt = ConfusionMatrixDisplay(confusion_matrix(y_test, pred_xgb_us_original))\n",
    "plt.plot()"
   ]
  },
  {
   "cell_type": "code",
   "execution_count": null,
   "metadata": {},
   "outputs": [],
   "source": [
    "for i in range(3):\n",
    "    tree = best_rf_us.estimators_[i]\n",
    "    dot_data = export_graphviz(\n",
    "        tree,\n",
    "        feature_names=X_train.columns,\n",
    "        filled=True,\n",
    "        max_depth=2,\n",
    "        impurity=False,\n",
    "        proportion=True,\n",
    "    )\n",
    "    graph = graphviz.Source(dot_data)\n",
    "    display(graph)"
   ]
  },
  {
   "cell_type": "markdown",
   "metadata": {},
   "source": [
    "SMOTE"
   ]
  },
  {
   "cell_type": "code",
   "execution_count": null,
   "metadata": {},
   "outputs": [],
   "source": [
    "skf = StratifiedKFold(n_splits=5)\n",
    "sm = SMOTE()\n",
    "\n",
    "# pipeline_rf = Pipeline([('over', SMOTE()), ('model', RandomForestClassifier())]) \n",
    "# za ciezkie dla mojego kompa :(\n",
    "X_train_smote, y_train_smote = sm.fit_resample(X_train, y_train)\n",
    "\n",
    "\n",
    "rf_search_space = {\n",
    "    'n_estimators': range(10, 101),\n",
    "    'criterion': ['gini', 'entropy'],\n",
    "    'max_depth': range(2, 51),\n",
    "    'min_samples_split': range(2, 11),\n",
    "    'min_samples_leaf': range(1, 11),\n",
    "    'max_features': ['sqrt', 'log2', None],\n",
    "    'bootstrap': [True, False]\n",
    "}\n",
    "# rf_search_space = {\n",
    "#     'model__n_estimators': range(10, 101),\n",
    "#     'model__criterion': ['gini', 'entropy'],\n",
    "#     'model__max_depth': range(2, 51),\n",
    "#     'model__min_samples_split': range(2, 11),\n",
    "#     'model__min_samples_leaf': range(1, 11),\n",
    "#     'model__max_features': ['sqrt', 'log2', None],\n",
    "#     'model__bootstrap': [True, False]\n",
    "# }\n",
    "\n",
    "\n",
    "rf_model = RandomForestClassifier()\n",
    "\n",
    "random_search_smote_rf = RandomizedSearchCV(n_iter=10, \n",
    "                                            # estimator= pipeline_rf,\n",
    "                                            estimator= rf_model,\n",
    "                                             param_distributions=rf_search_space,\n",
    "                              cv= skf, verbose= 3, n_jobs= -1, scoring=\"f1\")\n",
    "\n",
    "random_search_smote_rf.fit(X=X_train_smote, y=y_train_smote)\n"
   ]
  },
  {
   "cell_type": "code",
   "execution_count": null,
   "metadata": {},
   "outputs": [],
   "source": [
    "params_smote_rf = random_search_smote_rf.best_params_\n",
    "best_score_train_smote = random_search_smote_rf.best_score_\n",
    "\n",
    "best_rf_smote = RandomForestClassifier(**params_smote_rf)\n",
    "best_rf_smote.fit(X_train_smote, y_train_smote)\n",
    "pred_rf_smote = best_rf_smote.predict(X_test)"
   ]
  },
  {
   "cell_type": "code",
   "execution_count": 12,
   "metadata": {},
   "outputs": [
    {
     "name": "stdout",
     "output_type": "stream",
     "text": [
      "Fitting 3 folds for each of 10 candidates, totalling 30 fits\n"
     ]
    },
    {
     "name": "stderr",
     "output_type": "stream",
     "text": [
      "c:\\Users\\Ola\\Documents\\Projekty\\credit_card_fraud_detection\\.venv\\Lib\\site-packages\\xgboost\\training.py:183: UserWarning: [22:03:16] WARNING: C:\\actions-runner\\_work\\xgboost\\xgboost\\src\\common\\error_msg.cc:27: The tree method `gpu_hist` is deprecated since 2.0.0. To use GPU training, set the `device` parameter to CUDA instead.\n",
      "\n",
      "    E.g. tree_method = \"hist\", device = \"cuda\"\n",
      "\n",
      "  bst.update(dtrain, iteration=i, fobj=obj)\n",
      "c:\\Users\\Ola\\Documents\\Projekty\\credit_card_fraud_detection\\.venv\\Lib\\site-packages\\xgboost\\core.py:2676: UserWarning: [22:03:22] WARNING: C:\\actions-runner\\_work\\xgboost\\xgboost\\src\\common\\error_msg.cc:27: The tree method `gpu_hist` is deprecated since 2.0.0. To use GPU training, set the `device` parameter to CUDA instead.\n",
      "\n",
      "    E.g. tree_method = \"hist\", device = \"cuda\"\n",
      "\n",
      "  if len(data.shape) != 1 and self.num_features() != data.shape[1]:\n"
     ]
    },
    {
     "name": "stdout",
     "output_type": "stream",
     "text": [
      "[CV 1/3] END model__colsample_bytree=0.9067824678298482, model__learning_rate=0.06825937849566466, model__max_depth=3, model__n_estimators=561, model__subsample=0.9707728500238766;, score=0.801 total time=   6.7s\n"
     ]
    },
    {
     "name": "stderr",
     "output_type": "stream",
     "text": [
      "c:\\Users\\Ola\\Documents\\Projekty\\credit_card_fraud_detection\\.venv\\Lib\\site-packages\\xgboost\\training.py:183: UserWarning: [22:03:23] WARNING: C:\\actions-runner\\_work\\xgboost\\xgboost\\src\\common\\error_msg.cc:27: The tree method `gpu_hist` is deprecated since 2.0.0. To use GPU training, set the `device` parameter to CUDA instead.\n",
      "\n",
      "    E.g. tree_method = \"hist\", device = \"cuda\"\n",
      "\n",
      "  bst.update(dtrain, iteration=i, fobj=obj)\n",
      "c:\\Users\\Ola\\Documents\\Projekty\\credit_card_fraud_detection\\.venv\\Lib\\site-packages\\xgboost\\core.py:2676: UserWarning: [22:03:28] WARNING: C:\\actions-runner\\_work\\xgboost\\xgboost\\src\\common\\error_msg.cc:27: The tree method `gpu_hist` is deprecated since 2.0.0. To use GPU training, set the `device` parameter to CUDA instead.\n",
      "\n",
      "    E.g. tree_method = \"hist\", device = \"cuda\"\n",
      "\n",
      "  if len(data.shape) != 1 and self.num_features() != data.shape[1]:\n"
     ]
    },
    {
     "name": "stdout",
     "output_type": "stream",
     "text": [
      "[CV 2/3] END model__colsample_bytree=0.9067824678298482, model__learning_rate=0.06825937849566466, model__max_depth=3, model__n_estimators=561, model__subsample=0.9707728500238766;, score=0.845 total time=   5.9s\n"
     ]
    },
    {
     "name": "stderr",
     "output_type": "stream",
     "text": [
      "c:\\Users\\Ola\\Documents\\Projekty\\credit_card_fraud_detection\\.venv\\Lib\\site-packages\\xgboost\\training.py:183: UserWarning: [22:03:29] WARNING: C:\\actions-runner\\_work\\xgboost\\xgboost\\src\\common\\error_msg.cc:27: The tree method `gpu_hist` is deprecated since 2.0.0. To use GPU training, set the `device` parameter to CUDA instead.\n",
      "\n",
      "    E.g. tree_method = \"hist\", device = \"cuda\"\n",
      "\n",
      "  bst.update(dtrain, iteration=i, fobj=obj)\n",
      "c:\\Users\\Ola\\Documents\\Projekty\\credit_card_fraud_detection\\.venv\\Lib\\site-packages\\xgboost\\core.py:2676: UserWarning: [22:03:34] WARNING: C:\\actions-runner\\_work\\xgboost\\xgboost\\src\\common\\error_msg.cc:27: The tree method `gpu_hist` is deprecated since 2.0.0. To use GPU training, set the `device` parameter to CUDA instead.\n",
      "\n",
      "    E.g. tree_method = \"hist\", device = \"cuda\"\n",
      "\n",
      "  if len(data.shape) != 1 and self.num_features() != data.shape[1]:\n"
     ]
    },
    {
     "name": "stdout",
     "output_type": "stream",
     "text": [
      "[CV 3/3] END model__colsample_bytree=0.9067824678298482, model__learning_rate=0.06825937849566466, model__max_depth=3, model__n_estimators=561, model__subsample=0.9707728500238766;, score=0.822 total time=   5.7s\n"
     ]
    },
    {
     "name": "stderr",
     "output_type": "stream",
     "text": [
      "c:\\Users\\Ola\\Documents\\Projekty\\credit_card_fraud_detection\\.venv\\Lib\\site-packages\\xgboost\\training.py:183: UserWarning: [22:03:35] WARNING: C:\\actions-runner\\_work\\xgboost\\xgboost\\src\\common\\error_msg.cc:27: The tree method `gpu_hist` is deprecated since 2.0.0. To use GPU training, set the `device` parameter to CUDA instead.\n",
      "\n",
      "    E.g. tree_method = \"hist\", device = \"cuda\"\n",
      "\n",
      "  bst.update(dtrain, iteration=i, fobj=obj)\n",
      "c:\\Users\\Ola\\Documents\\Projekty\\credit_card_fraud_detection\\.venv\\Lib\\site-packages\\xgboost\\core.py:2676: UserWarning: [22:03:48] WARNING: C:\\actions-runner\\_work\\xgboost\\xgboost\\src\\common\\error_msg.cc:27: The tree method `gpu_hist` is deprecated since 2.0.0. To use GPU training, set the `device` parameter to CUDA instead.\n",
      "\n",
      "    E.g. tree_method = \"hist\", device = \"cuda\"\n",
      "\n",
      "  if len(data.shape) != 1 and self.num_features() != data.shape[1]:\n"
     ]
    },
    {
     "name": "stdout",
     "output_type": "stream",
     "text": [
      "[CV 1/3] END model__colsample_bytree=0.9718220617402509, model__learning_rate=0.061468641112949716, model__max_depth=9, model__n_estimators=807, model__subsample=0.7617323063705121;, score=0.822 total time=  13.7s\n"
     ]
    },
    {
     "name": "stderr",
     "output_type": "stream",
     "text": [
      "c:\\Users\\Ola\\Documents\\Projekty\\credit_card_fraud_detection\\.venv\\Lib\\site-packages\\xgboost\\training.py:183: UserWarning: [22:03:49] WARNING: C:\\actions-runner\\_work\\xgboost\\xgboost\\src\\common\\error_msg.cc:27: The tree method `gpu_hist` is deprecated since 2.0.0. To use GPU training, set the `device` parameter to CUDA instead.\n",
      "\n",
      "    E.g. tree_method = \"hist\", device = \"cuda\"\n",
      "\n",
      "  bst.update(dtrain, iteration=i, fobj=obj)\n",
      "c:\\Users\\Ola\\Documents\\Projekty\\credit_card_fraud_detection\\.venv\\Lib\\site-packages\\xgboost\\core.py:2676: UserWarning: [22:04:02] WARNING: C:\\actions-runner\\_work\\xgboost\\xgboost\\src\\common\\error_msg.cc:27: The tree method `gpu_hist` is deprecated since 2.0.0. To use GPU training, set the `device` parameter to CUDA instead.\n",
      "\n",
      "    E.g. tree_method = \"hist\", device = \"cuda\"\n",
      "\n",
      "  if len(data.shape) != 1 and self.num_features() != data.shape[1]:\n"
     ]
    },
    {
     "name": "stdout",
     "output_type": "stream",
     "text": [
      "[CV 2/3] END model__colsample_bytree=0.9718220617402509, model__learning_rate=0.061468641112949716, model__max_depth=9, model__n_estimators=807, model__subsample=0.7617323063705121;, score=0.857 total time=  14.5s\n"
     ]
    },
    {
     "name": "stderr",
     "output_type": "stream",
     "text": [
      "c:\\Users\\Ola\\Documents\\Projekty\\credit_card_fraud_detection\\.venv\\Lib\\site-packages\\xgboost\\training.py:183: UserWarning: [22:04:03] WARNING: C:\\actions-runner\\_work\\xgboost\\xgboost\\src\\common\\error_msg.cc:27: The tree method `gpu_hist` is deprecated since 2.0.0. To use GPU training, set the `device` parameter to CUDA instead.\n",
      "\n",
      "    E.g. tree_method = \"hist\", device = \"cuda\"\n",
      "\n",
      "  bst.update(dtrain, iteration=i, fobj=obj)\n",
      "c:\\Users\\Ola\\Documents\\Projekty\\credit_card_fraud_detection\\.venv\\Lib\\site-packages\\xgboost\\core.py:2676: UserWarning: [22:04:16] WARNING: C:\\actions-runner\\_work\\xgboost\\xgboost\\src\\common\\error_msg.cc:27: The tree method `gpu_hist` is deprecated since 2.0.0. To use GPU training, set the `device` parameter to CUDA instead.\n",
      "\n",
      "    E.g. tree_method = \"hist\", device = \"cuda\"\n",
      "\n",
      "  if len(data.shape) != 1 and self.num_features() != data.shape[1]:\n"
     ]
    },
    {
     "name": "stdout",
     "output_type": "stream",
     "text": [
      "[CV 3/3] END model__colsample_bytree=0.9718220617402509, model__learning_rate=0.061468641112949716, model__max_depth=9, model__n_estimators=807, model__subsample=0.7617323063705121;, score=0.834 total time=  14.0s\n"
     ]
    },
    {
     "name": "stderr",
     "output_type": "stream",
     "text": [
      "c:\\Users\\Ola\\Documents\\Projekty\\credit_card_fraud_detection\\.venv\\Lib\\site-packages\\xgboost\\training.py:183: UserWarning: [22:04:17] WARNING: C:\\actions-runner\\_work\\xgboost\\xgboost\\src\\common\\error_msg.cc:27: The tree method `gpu_hist` is deprecated since 2.0.0. To use GPU training, set the `device` parameter to CUDA instead.\n",
      "\n",
      "    E.g. tree_method = \"hist\", device = \"cuda\"\n",
      "\n",
      "  bst.update(dtrain, iteration=i, fobj=obj)\n",
      "c:\\Users\\Ola\\Documents\\Projekty\\credit_card_fraud_detection\\.venv\\Lib\\site-packages\\xgboost\\core.py:2676: UserWarning: [22:04:26] WARNING: C:\\actions-runner\\_work\\xgboost\\xgboost\\src\\common\\error_msg.cc:27: The tree method `gpu_hist` is deprecated since 2.0.0. To use GPU training, set the `device` parameter to CUDA instead.\n",
      "\n",
      "    E.g. tree_method = \"hist\", device = \"cuda\"\n",
      "\n",
      "  if len(data.shape) != 1 and self.num_features() != data.shape[1]:\n"
     ]
    },
    {
     "name": "stdout",
     "output_type": "stream",
     "text": [
      "[CV 1/3] END model__colsample_bytree=0.5802988154542226, model__learning_rate=0.026324736742575898, model__max_depth=3, model__n_estimators=986, model__subsample=0.5750000499237562;, score=0.804 total time=   9.5s\n"
     ]
    },
    {
     "name": "stderr",
     "output_type": "stream",
     "text": [
      "c:\\Users\\Ola\\Documents\\Projekty\\credit_card_fraud_detection\\.venv\\Lib\\site-packages\\xgboost\\training.py:183: UserWarning: [22:04:27] WARNING: C:\\actions-runner\\_work\\xgboost\\xgboost\\src\\common\\error_msg.cc:27: The tree method `gpu_hist` is deprecated since 2.0.0. To use GPU training, set the `device` parameter to CUDA instead.\n",
      "\n",
      "    E.g. tree_method = \"hist\", device = \"cuda\"\n",
      "\n",
      "  bst.update(dtrain, iteration=i, fobj=obj)\n",
      "c:\\Users\\Ola\\Documents\\Projekty\\credit_card_fraud_detection\\.venv\\Lib\\site-packages\\xgboost\\core.py:2676: UserWarning: [22:04:36] WARNING: C:\\actions-runner\\_work\\xgboost\\xgboost\\src\\common\\error_msg.cc:27: The tree method `gpu_hist` is deprecated since 2.0.0. To use GPU training, set the `device` parameter to CUDA instead.\n",
      "\n",
      "    E.g. tree_method = \"hist\", device = \"cuda\"\n",
      "\n",
      "  if len(data.shape) != 1 and self.num_features() != data.shape[1]:\n"
     ]
    },
    {
     "name": "stdout",
     "output_type": "stream",
     "text": [
      "[CV 2/3] END model__colsample_bytree=0.5802988154542226, model__learning_rate=0.026324736742575898, model__max_depth=3, model__n_estimators=986, model__subsample=0.5750000499237562;, score=0.830 total time=   9.7s\n"
     ]
    },
    {
     "name": "stderr",
     "output_type": "stream",
     "text": [
      "c:\\Users\\Ola\\Documents\\Projekty\\credit_card_fraud_detection\\.venv\\Lib\\site-packages\\xgboost\\training.py:183: UserWarning: [22:04:37] WARNING: C:\\actions-runner\\_work\\xgboost\\xgboost\\src\\common\\error_msg.cc:27: The tree method `gpu_hist` is deprecated since 2.0.0. To use GPU training, set the `device` parameter to CUDA instead.\n",
      "\n",
      "    E.g. tree_method = \"hist\", device = \"cuda\"\n",
      "\n",
      "  bst.update(dtrain, iteration=i, fobj=obj)\n",
      "c:\\Users\\Ola\\Documents\\Projekty\\credit_card_fraud_detection\\.venv\\Lib\\site-packages\\xgboost\\core.py:2676: UserWarning: [22:04:46] WARNING: C:\\actions-runner\\_work\\xgboost\\xgboost\\src\\common\\error_msg.cc:27: The tree method `gpu_hist` is deprecated since 2.0.0. To use GPU training, set the `device` parameter to CUDA instead.\n",
      "\n",
      "    E.g. tree_method = \"hist\", device = \"cuda\"\n",
      "\n",
      "  if len(data.shape) != 1 and self.num_features() != data.shape[1]:\n"
     ]
    },
    {
     "name": "stdout",
     "output_type": "stream",
     "text": [
      "[CV 3/3] END model__colsample_bytree=0.5802988154542226, model__learning_rate=0.026324736742575898, model__max_depth=3, model__n_estimators=986, model__subsample=0.5750000499237562;, score=0.825 total time=  10.1s\n"
     ]
    },
    {
     "name": "stderr",
     "output_type": "stream",
     "text": [
      "c:\\Users\\Ola\\Documents\\Projekty\\credit_card_fraud_detection\\.venv\\Lib\\site-packages\\xgboost\\training.py:183: UserWarning: [22:04:47] WARNING: C:\\actions-runner\\_work\\xgboost\\xgboost\\src\\common\\error_msg.cc:27: The tree method `gpu_hist` is deprecated since 2.0.0. To use GPU training, set the `device` parameter to CUDA instead.\n",
      "\n",
      "    E.g. tree_method = \"hist\", device = \"cuda\"\n",
      "\n",
      "  bst.update(dtrain, iteration=i, fobj=obj)\n",
      "c:\\Users\\Ola\\Documents\\Projekty\\credit_card_fraud_detection\\.venv\\Lib\\site-packages\\xgboost\\core.py:2676: UserWarning: [22:04:50] WARNING: C:\\actions-runner\\_work\\xgboost\\xgboost\\src\\common\\error_msg.cc:27: The tree method `gpu_hist` is deprecated since 2.0.0. To use GPU training, set the `device` parameter to CUDA instead.\n",
      "\n",
      "    E.g. tree_method = \"hist\", device = \"cuda\"\n",
      "\n",
      "  if len(data.shape) != 1 and self.num_features() != data.shape[1]:\n"
     ]
    },
    {
     "name": "stdout",
     "output_type": "stream",
     "text": [
      "[CV 1/3] END model__colsample_bytree=0.5141282846881907, model__learning_rate=0.06834439948939586, model__max_depth=3, model__n_estimators=351, model__subsample=0.6952425664719846;, score=0.803 total time=   4.2s\n"
     ]
    },
    {
     "name": "stderr",
     "output_type": "stream",
     "text": [
      "c:\\Users\\Ola\\Documents\\Projekty\\credit_card_fraud_detection\\.venv\\Lib\\site-packages\\xgboost\\training.py:183: UserWarning: [22:04:51] WARNING: C:\\actions-runner\\_work\\xgboost\\xgboost\\src\\common\\error_msg.cc:27: The tree method `gpu_hist` is deprecated since 2.0.0. To use GPU training, set the `device` parameter to CUDA instead.\n",
      "\n",
      "    E.g. tree_method = \"hist\", device = \"cuda\"\n",
      "\n",
      "  bst.update(dtrain, iteration=i, fobj=obj)\n",
      "c:\\Users\\Ola\\Documents\\Projekty\\credit_card_fraud_detection\\.venv\\Lib\\site-packages\\xgboost\\core.py:2676: UserWarning: [22:04:55] WARNING: C:\\actions-runner\\_work\\xgboost\\xgboost\\src\\common\\error_msg.cc:27: The tree method `gpu_hist` is deprecated since 2.0.0. To use GPU training, set the `device` parameter to CUDA instead.\n",
      "\n",
      "    E.g. tree_method = \"hist\", device = \"cuda\"\n",
      "\n",
      "  if len(data.shape) != 1 and self.num_features() != data.shape[1]:\n"
     ]
    },
    {
     "name": "stdout",
     "output_type": "stream",
     "text": [
      "[CV 2/3] END model__colsample_bytree=0.5141282846881907, model__learning_rate=0.06834439948939586, model__max_depth=3, model__n_estimators=351, model__subsample=0.6952425664719846;, score=0.824 total time=   4.2s\n"
     ]
    },
    {
     "name": "stderr",
     "output_type": "stream",
     "text": [
      "c:\\Users\\Ola\\Documents\\Projekty\\credit_card_fraud_detection\\.venv\\Lib\\site-packages\\xgboost\\training.py:183: UserWarning: [22:04:56] WARNING: C:\\actions-runner\\_work\\xgboost\\xgboost\\src\\common\\error_msg.cc:27: The tree method `gpu_hist` is deprecated since 2.0.0. To use GPU training, set the `device` parameter to CUDA instead.\n",
      "\n",
      "    E.g. tree_method = \"hist\", device = \"cuda\"\n",
      "\n",
      "  bst.update(dtrain, iteration=i, fobj=obj)\n",
      "c:\\Users\\Ola\\Documents\\Projekty\\credit_card_fraud_detection\\.venv\\Lib\\site-packages\\xgboost\\core.py:2676: UserWarning: [22:04:59] WARNING: C:\\actions-runner\\_work\\xgboost\\xgboost\\src\\common\\error_msg.cc:27: The tree method `gpu_hist` is deprecated since 2.0.0. To use GPU training, set the `device` parameter to CUDA instead.\n",
      "\n",
      "    E.g. tree_method = \"hist\", device = \"cuda\"\n",
      "\n",
      "  if len(data.shape) != 1 and self.num_features() != data.shape[1]:\n"
     ]
    },
    {
     "name": "stdout",
     "output_type": "stream",
     "text": [
      "[CV 3/3] END model__colsample_bytree=0.5141282846881907, model__learning_rate=0.06834439948939586, model__max_depth=3, model__n_estimators=351, model__subsample=0.6952425664719846;, score=0.836 total time=   4.3s\n"
     ]
    },
    {
     "name": "stderr",
     "output_type": "stream",
     "text": [
      "c:\\Users\\Ola\\Documents\\Projekty\\credit_card_fraud_detection\\.venv\\Lib\\site-packages\\xgboost\\training.py:183: UserWarning: [22:05:00] WARNING: C:\\actions-runner\\_work\\xgboost\\xgboost\\src\\common\\error_msg.cc:27: The tree method `gpu_hist` is deprecated since 2.0.0. To use GPU training, set the `device` parameter to CUDA instead.\n",
      "\n",
      "    E.g. tree_method = \"hist\", device = \"cuda\"\n",
      "\n",
      "  bst.update(dtrain, iteration=i, fobj=obj)\n",
      "c:\\Users\\Ola\\Documents\\Projekty\\credit_card_fraud_detection\\.venv\\Lib\\site-packages\\xgboost\\core.py:2676: UserWarning: [22:05:15] WARNING: C:\\actions-runner\\_work\\xgboost\\xgboost\\src\\common\\error_msg.cc:27: The tree method `gpu_hist` is deprecated since 2.0.0. To use GPU training, set the `device` parameter to CUDA instead.\n",
      "\n",
      "    E.g. tree_method = \"hist\", device = \"cuda\"\n",
      "\n",
      "  if len(data.shape) != 1 and self.num_features() != data.shape[1]:\n"
     ]
    },
    {
     "name": "stdout",
     "output_type": "stream",
     "text": [
      "[CV 1/3] END model__colsample_bytree=0.7427285370926036, model__learning_rate=0.09474156399608046, model__max_depth=7, model__n_estimators=996, model__subsample=0.8946070678836184;, score=0.815 total time=  15.8s\n"
     ]
    },
    {
     "name": "stderr",
     "output_type": "stream",
     "text": [
      "c:\\Users\\Ola\\Documents\\Projekty\\credit_card_fraud_detection\\.venv\\Lib\\site-packages\\xgboost\\training.py:183: UserWarning: [22:05:16] WARNING: C:\\actions-runner\\_work\\xgboost\\xgboost\\src\\common\\error_msg.cc:27: The tree method `gpu_hist` is deprecated since 2.0.0. To use GPU training, set the `device` parameter to CUDA instead.\n",
      "\n",
      "    E.g. tree_method = \"hist\", device = \"cuda\"\n",
      "\n",
      "  bst.update(dtrain, iteration=i, fobj=obj)\n",
      "c:\\Users\\Ola\\Documents\\Projekty\\credit_card_fraud_detection\\.venv\\Lib\\site-packages\\xgboost\\core.py:2676: UserWarning: [22:05:32] WARNING: C:\\actions-runner\\_work\\xgboost\\xgboost\\src\\common\\error_msg.cc:27: The tree method `gpu_hist` is deprecated since 2.0.0. To use GPU training, set the `device` parameter to CUDA instead.\n",
      "\n",
      "    E.g. tree_method = \"hist\", device = \"cuda\"\n",
      "\n",
      "  if len(data.shape) != 1 and self.num_features() != data.shape[1]:\n"
     ]
    },
    {
     "name": "stdout",
     "output_type": "stream",
     "text": [
      "[CV 2/3] END model__colsample_bytree=0.7427285370926036, model__learning_rate=0.09474156399608046, model__max_depth=7, model__n_estimators=996, model__subsample=0.8946070678836184;, score=0.868 total time=  17.1s\n"
     ]
    },
    {
     "name": "stderr",
     "output_type": "stream",
     "text": [
      "c:\\Users\\Ola\\Documents\\Projekty\\credit_card_fraud_detection\\.venv\\Lib\\site-packages\\xgboost\\training.py:183: UserWarning: [22:05:33] WARNING: C:\\actions-runner\\_work\\xgboost\\xgboost\\src\\common\\error_msg.cc:27: The tree method `gpu_hist` is deprecated since 2.0.0. To use GPU training, set the `device` parameter to CUDA instead.\n",
      "\n",
      "    E.g. tree_method = \"hist\", device = \"cuda\"\n",
      "\n",
      "  bst.update(dtrain, iteration=i, fobj=obj)\n",
      "c:\\Users\\Ola\\Documents\\Projekty\\credit_card_fraud_detection\\.venv\\Lib\\site-packages\\xgboost\\core.py:2676: UserWarning: [22:05:49] WARNING: C:\\actions-runner\\_work\\xgboost\\xgboost\\src\\common\\error_msg.cc:27: The tree method `gpu_hist` is deprecated since 2.0.0. To use GPU training, set the `device` parameter to CUDA instead.\n",
      "\n",
      "    E.g. tree_method = \"hist\", device = \"cuda\"\n",
      "\n",
      "  if len(data.shape) != 1 and self.num_features() != data.shape[1]:\n"
     ]
    },
    {
     "name": "stdout",
     "output_type": "stream",
     "text": [
      "[CV 3/3] END model__colsample_bytree=0.7427285370926036, model__learning_rate=0.09474156399608046, model__max_depth=7, model__n_estimators=996, model__subsample=0.8946070678836184;, score=0.839 total time=  17.0s\n"
     ]
    },
    {
     "name": "stderr",
     "output_type": "stream",
     "text": [
      "c:\\Users\\Ola\\Documents\\Projekty\\credit_card_fraud_detection\\.venv\\Lib\\site-packages\\xgboost\\training.py:183: UserWarning: [22:05:50] WARNING: C:\\actions-runner\\_work\\xgboost\\xgboost\\src\\common\\error_msg.cc:27: The tree method `gpu_hist` is deprecated since 2.0.0. To use GPU training, set the `device` parameter to CUDA instead.\n",
      "\n",
      "    E.g. tree_method = \"hist\", device = \"cuda\"\n",
      "\n",
      "  bst.update(dtrain, iteration=i, fobj=obj)\n",
      "c:\\Users\\Ola\\Documents\\Projekty\\credit_card_fraud_detection\\.venv\\Lib\\site-packages\\xgboost\\core.py:2676: UserWarning: [22:06:06] WARNING: C:\\actions-runner\\_work\\xgboost\\xgboost\\src\\common\\error_msg.cc:27: The tree method `gpu_hist` is deprecated since 2.0.0. To use GPU training, set the `device` parameter to CUDA instead.\n",
      "\n",
      "    E.g. tree_method = \"hist\", device = \"cuda\"\n",
      "\n",
      "  if len(data.shape) != 1 and self.num_features() != data.shape[1]:\n"
     ]
    },
    {
     "name": "stdout",
     "output_type": "stream",
     "text": [
      "[CV 1/3] END model__colsample_bytree=0.9889594223976186, model__learning_rate=0.02734192126904244, model__max_depth=8, model__n_estimators=739, model__subsample=0.8614599029963854;, score=0.820 total time=  16.5s\n"
     ]
    },
    {
     "name": "stderr",
     "output_type": "stream",
     "text": [
      "c:\\Users\\Ola\\Documents\\Projekty\\credit_card_fraud_detection\\.venv\\Lib\\site-packages\\xgboost\\training.py:183: UserWarning: [22:06:07] WARNING: C:\\actions-runner\\_work\\xgboost\\xgboost\\src\\common\\error_msg.cc:27: The tree method `gpu_hist` is deprecated since 2.0.0. To use GPU training, set the `device` parameter to CUDA instead.\n",
      "\n",
      "    E.g. tree_method = \"hist\", device = \"cuda\"\n",
      "\n",
      "  bst.update(dtrain, iteration=i, fobj=obj)\n",
      "c:\\Users\\Ola\\Documents\\Projekty\\credit_card_fraud_detection\\.venv\\Lib\\site-packages\\xgboost\\core.py:2676: UserWarning: [22:06:23] WARNING: C:\\actions-runner\\_work\\xgboost\\xgboost\\src\\common\\error_msg.cc:27: The tree method `gpu_hist` is deprecated since 2.0.0. To use GPU training, set the `device` parameter to CUDA instead.\n",
      "\n",
      "    E.g. tree_method = \"hist\", device = \"cuda\"\n",
      "\n",
      "  if len(data.shape) != 1 and self.num_features() != data.shape[1]:\n"
     ]
    },
    {
     "name": "stdout",
     "output_type": "stream",
     "text": [
      "[CV 2/3] END model__colsample_bytree=0.9889594223976186, model__learning_rate=0.02734192126904244, model__max_depth=8, model__n_estimators=739, model__subsample=0.8614599029963854;, score=0.858 total time=  16.7s\n"
     ]
    },
    {
     "name": "stderr",
     "output_type": "stream",
     "text": [
      "c:\\Users\\Ola\\Documents\\Projekty\\credit_card_fraud_detection\\.venv\\Lib\\site-packages\\xgboost\\training.py:183: UserWarning: [22:06:25] WARNING: C:\\actions-runner\\_work\\xgboost\\xgboost\\src\\common\\error_msg.cc:27: The tree method `gpu_hist` is deprecated since 2.0.0. To use GPU training, set the `device` parameter to CUDA instead.\n",
      "\n",
      "    E.g. tree_method = \"hist\", device = \"cuda\"\n",
      "\n",
      "  bst.update(dtrain, iteration=i, fobj=obj)\n",
      "c:\\Users\\Ola\\Documents\\Projekty\\credit_card_fraud_detection\\.venv\\Lib\\site-packages\\xgboost\\core.py:2676: UserWarning: [22:06:40] WARNING: C:\\actions-runner\\_work\\xgboost\\xgboost\\src\\common\\error_msg.cc:27: The tree method `gpu_hist` is deprecated since 2.0.0. To use GPU training, set the `device` parameter to CUDA instead.\n",
      "\n",
      "    E.g. tree_method = \"hist\", device = \"cuda\"\n",
      "\n",
      "  if len(data.shape) != 1 and self.num_features() != data.shape[1]:\n"
     ]
    },
    {
     "name": "stdout",
     "output_type": "stream",
     "text": [
      "[CV 3/3] END model__colsample_bytree=0.9889594223976186, model__learning_rate=0.02734192126904244, model__max_depth=8, model__n_estimators=739, model__subsample=0.8614599029963854;, score=0.835 total time=  17.2s\n"
     ]
    },
    {
     "name": "stderr",
     "output_type": "stream",
     "text": [
      "c:\\Users\\Ola\\Documents\\Projekty\\credit_card_fraud_detection\\.venv\\Lib\\site-packages\\xgboost\\training.py:183: UserWarning: [22:06:41] WARNING: C:\\actions-runner\\_work\\xgboost\\xgboost\\src\\common\\error_msg.cc:27: The tree method `gpu_hist` is deprecated since 2.0.0. To use GPU training, set the `device` parameter to CUDA instead.\n",
      "\n",
      "    E.g. tree_method = \"hist\", device = \"cuda\"\n",
      "\n",
      "  bst.update(dtrain, iteration=i, fobj=obj)\n",
      "c:\\Users\\Ola\\Documents\\Projekty\\credit_card_fraud_detection\\.venv\\Lib\\site-packages\\xgboost\\core.py:2676: UserWarning: [22:06:45] WARNING: C:\\actions-runner\\_work\\xgboost\\xgboost\\src\\common\\error_msg.cc:27: The tree method `gpu_hist` is deprecated since 2.0.0. To use GPU training, set the `device` parameter to CUDA instead.\n",
      "\n",
      "    E.g. tree_method = \"hist\", device = \"cuda\"\n",
      "\n",
      "  if len(data.shape) != 1 and self.num_features() != data.shape[1]:\n"
     ]
    },
    {
     "name": "stdout",
     "output_type": "stream",
     "text": [
      "[CV 1/3] END model__colsample_bytree=0.9660688328321163, model__learning_rate=0.03827457340873274, model__max_depth=3, model__n_estimators=405, model__subsample=0.7796218981720577;, score=0.796 total time=   5.2s\n"
     ]
    },
    {
     "name": "stderr",
     "output_type": "stream",
     "text": [
      "c:\\Users\\Ola\\Documents\\Projekty\\credit_card_fraud_detection\\.venv\\Lib\\site-packages\\xgboost\\training.py:183: UserWarning: [22:06:46] WARNING: C:\\actions-runner\\_work\\xgboost\\xgboost\\src\\common\\error_msg.cc:27: The tree method `gpu_hist` is deprecated since 2.0.0. To use GPU training, set the `device` parameter to CUDA instead.\n",
      "\n",
      "    E.g. tree_method = \"hist\", device = \"cuda\"\n",
      "\n",
      "  bst.update(dtrain, iteration=i, fobj=obj)\n",
      "c:\\Users\\Ola\\Documents\\Projekty\\credit_card_fraud_detection\\.venv\\Lib\\site-packages\\xgboost\\core.py:2676: UserWarning: [22:06:51] WARNING: C:\\actions-runner\\_work\\xgboost\\xgboost\\src\\common\\error_msg.cc:27: The tree method `gpu_hist` is deprecated since 2.0.0. To use GPU training, set the `device` parameter to CUDA instead.\n",
      "\n",
      "    E.g. tree_method = \"hist\", device = \"cuda\"\n",
      "\n",
      "  if len(data.shape) != 1 and self.num_features() != data.shape[1]:\n"
     ]
    },
    {
     "name": "stdout",
     "output_type": "stream",
     "text": [
      "[CV 2/3] END model__colsample_bytree=0.9660688328321163, model__learning_rate=0.03827457340873274, model__max_depth=3, model__n_estimators=405, model__subsample=0.7796218981720577;, score=0.777 total time=   5.1s\n"
     ]
    },
    {
     "name": "stderr",
     "output_type": "stream",
     "text": [
      "c:\\Users\\Ola\\Documents\\Projekty\\credit_card_fraud_detection\\.venv\\Lib\\site-packages\\xgboost\\training.py:183: UserWarning: [22:06:52] WARNING: C:\\actions-runner\\_work\\xgboost\\xgboost\\src\\common\\error_msg.cc:27: The tree method `gpu_hist` is deprecated since 2.0.0. To use GPU training, set the `device` parameter to CUDA instead.\n",
      "\n",
      "    E.g. tree_method = \"hist\", device = \"cuda\"\n",
      "\n",
      "  bst.update(dtrain, iteration=i, fobj=obj)\n",
      "c:\\Users\\Ola\\Documents\\Projekty\\credit_card_fraud_detection\\.venv\\Lib\\site-packages\\xgboost\\core.py:2676: UserWarning: [22:06:56] WARNING: C:\\actions-runner\\_work\\xgboost\\xgboost\\src\\common\\error_msg.cc:27: The tree method `gpu_hist` is deprecated since 2.0.0. To use GPU training, set the `device` parameter to CUDA instead.\n",
      "\n",
      "    E.g. tree_method = \"hist\", device = \"cuda\"\n",
      "\n",
      "  if len(data.shape) != 1 and self.num_features() != data.shape[1]:\n"
     ]
    },
    {
     "name": "stdout",
     "output_type": "stream",
     "text": [
      "[CV 3/3] END model__colsample_bytree=0.9660688328321163, model__learning_rate=0.03827457340873274, model__max_depth=3, model__n_estimators=405, model__subsample=0.7796218981720577;, score=0.818 total time=   5.0s\n"
     ]
    },
    {
     "name": "stderr",
     "output_type": "stream",
     "text": [
      "c:\\Users\\Ola\\Documents\\Projekty\\credit_card_fraud_detection\\.venv\\Lib\\site-packages\\xgboost\\training.py:183: UserWarning: [22:06:57] WARNING: C:\\actions-runner\\_work\\xgboost\\xgboost\\src\\common\\error_msg.cc:27: The tree method `gpu_hist` is deprecated since 2.0.0. To use GPU training, set the `device` parameter to CUDA instead.\n",
      "\n",
      "    E.g. tree_method = \"hist\", device = \"cuda\"\n",
      "\n",
      "  bst.update(dtrain, iteration=i, fobj=obj)\n",
      "c:\\Users\\Ola\\Documents\\Projekty\\credit_card_fraud_detection\\.venv\\Lib\\site-packages\\xgboost\\core.py:2676: UserWarning: [22:07:12] WARNING: C:\\actions-runner\\_work\\xgboost\\xgboost\\src\\common\\error_msg.cc:27: The tree method `gpu_hist` is deprecated since 2.0.0. To use GPU training, set the `device` parameter to CUDA instead.\n",
      "\n",
      "    E.g. tree_method = \"hist\", device = \"cuda\"\n",
      "\n",
      "  if len(data.shape) != 1 and self.num_features() != data.shape[1]:\n"
     ]
    },
    {
     "name": "stdout",
     "output_type": "stream",
     "text": [
      "[CV 1/3] END model__colsample_bytree=0.9441934758209378, model__learning_rate=0.0929089537709277, model__max_depth=8, model__n_estimators=957, model__subsample=0.9196199957988689;, score=0.819 total time=  16.2s\n"
     ]
    },
    {
     "name": "stderr",
     "output_type": "stream",
     "text": [
      "c:\\Users\\Ola\\Documents\\Projekty\\credit_card_fraud_detection\\.venv\\Lib\\site-packages\\xgboost\\training.py:183: UserWarning: [22:07:13] WARNING: C:\\actions-runner\\_work\\xgboost\\xgboost\\src\\common\\error_msg.cc:27: The tree method `gpu_hist` is deprecated since 2.0.0. To use GPU training, set the `device` parameter to CUDA instead.\n",
      "\n",
      "    E.g. tree_method = \"hist\", device = \"cuda\"\n",
      "\n",
      "  bst.update(dtrain, iteration=i, fobj=obj)\n",
      "c:\\Users\\Ola\\Documents\\Projekty\\credit_card_fraud_detection\\.venv\\Lib\\site-packages\\xgboost\\core.py:2676: UserWarning: [22:07:29] WARNING: C:\\actions-runner\\_work\\xgboost\\xgboost\\src\\common\\error_msg.cc:27: The tree method `gpu_hist` is deprecated since 2.0.0. To use GPU training, set the `device` parameter to CUDA instead.\n",
      "\n",
      "    E.g. tree_method = \"hist\", device = \"cuda\"\n",
      "\n",
      "  if len(data.shape) != 1 and self.num_features() != data.shape[1]:\n"
     ]
    },
    {
     "name": "stdout",
     "output_type": "stream",
     "text": [
      "[CV 2/3] END model__colsample_bytree=0.9441934758209378, model__learning_rate=0.0929089537709277, model__max_depth=8, model__n_estimators=957, model__subsample=0.9196199957988689;, score=0.857 total time=  17.3s\n"
     ]
    },
    {
     "name": "stderr",
     "output_type": "stream",
     "text": [
      "c:\\Users\\Ola\\Documents\\Projekty\\credit_card_fraud_detection\\.venv\\Lib\\site-packages\\xgboost\\training.py:183: UserWarning: [22:07:30] WARNING: C:\\actions-runner\\_work\\xgboost\\xgboost\\src\\common\\error_msg.cc:27: The tree method `gpu_hist` is deprecated since 2.0.0. To use GPU training, set the `device` parameter to CUDA instead.\n",
      "\n",
      "    E.g. tree_method = \"hist\", device = \"cuda\"\n",
      "\n",
      "  bst.update(dtrain, iteration=i, fobj=obj)\n",
      "c:\\Users\\Ola\\Documents\\Projekty\\credit_card_fraud_detection\\.venv\\Lib\\site-packages\\xgboost\\core.py:2676: UserWarning: [22:07:46] WARNING: C:\\actions-runner\\_work\\xgboost\\xgboost\\src\\common\\error_msg.cc:27: The tree method `gpu_hist` is deprecated since 2.0.0. To use GPU training, set the `device` parameter to CUDA instead.\n",
      "\n",
      "    E.g. tree_method = \"hist\", device = \"cuda\"\n",
      "\n",
      "  if len(data.shape) != 1 and self.num_features() != data.shape[1]:\n"
     ]
    },
    {
     "name": "stdout",
     "output_type": "stream",
     "text": [
      "[CV 3/3] END model__colsample_bytree=0.9441934758209378, model__learning_rate=0.0929089537709277, model__max_depth=8, model__n_estimators=957, model__subsample=0.9196199957988689;, score=0.840 total time=  16.7s\n"
     ]
    },
    {
     "name": "stderr",
     "output_type": "stream",
     "text": [
      "c:\\Users\\Ola\\Documents\\Projekty\\credit_card_fraud_detection\\.venv\\Lib\\site-packages\\xgboost\\training.py:183: UserWarning: [22:07:47] WARNING: C:\\actions-runner\\_work\\xgboost\\xgboost\\src\\common\\error_msg.cc:27: The tree method `gpu_hist` is deprecated since 2.0.0. To use GPU training, set the `device` parameter to CUDA instead.\n",
      "\n",
      "    E.g. tree_method = \"hist\", device = \"cuda\"\n",
      "\n",
      "  bst.update(dtrain, iteration=i, fobj=obj)\n",
      "c:\\Users\\Ola\\Documents\\Projekty\\credit_card_fraud_detection\\.venv\\Lib\\site-packages\\xgboost\\core.py:2676: UserWarning: [22:07:53] WARNING: C:\\actions-runner\\_work\\xgboost\\xgboost\\src\\common\\error_msg.cc:27: The tree method `gpu_hist` is deprecated since 2.0.0. To use GPU training, set the `device` parameter to CUDA instead.\n",
      "\n",
      "    E.g. tree_method = \"hist\", device = \"cuda\"\n",
      "\n",
      "  if len(data.shape) != 1 and self.num_features() != data.shape[1]:\n"
     ]
    },
    {
     "name": "stdout",
     "output_type": "stream",
     "text": [
      "[CV 1/3] END model__colsample_bytree=0.8183167164555288, model__learning_rate=0.05003266212462053, model__max_depth=8, model__n_estimators=279, model__subsample=0.524210174252318;, score=0.818 total time=   6.6s\n"
     ]
    },
    {
     "name": "stderr",
     "output_type": "stream",
     "text": [
      "c:\\Users\\Ola\\Documents\\Projekty\\credit_card_fraud_detection\\.venv\\Lib\\site-packages\\xgboost\\training.py:183: UserWarning: [22:07:54] WARNING: C:\\actions-runner\\_work\\xgboost\\xgboost\\src\\common\\error_msg.cc:27: The tree method `gpu_hist` is deprecated since 2.0.0. To use GPU training, set the `device` parameter to CUDA instead.\n",
      "\n",
      "    E.g. tree_method = \"hist\", device = \"cuda\"\n",
      "\n",
      "  bst.update(dtrain, iteration=i, fobj=obj)\n",
      "c:\\Users\\Ola\\Documents\\Projekty\\credit_card_fraud_detection\\.venv\\Lib\\site-packages\\xgboost\\core.py:2676: UserWarning: [22:08:00] WARNING: C:\\actions-runner\\_work\\xgboost\\xgboost\\src\\common\\error_msg.cc:27: The tree method `gpu_hist` is deprecated since 2.0.0. To use GPU training, set the `device` parameter to CUDA instead.\n",
      "\n",
      "    E.g. tree_method = \"hist\", device = \"cuda\"\n",
      "\n",
      "  if len(data.shape) != 1 and self.num_features() != data.shape[1]:\n"
     ]
    },
    {
     "name": "stdout",
     "output_type": "stream",
     "text": [
      "[CV 2/3] END model__colsample_bytree=0.8183167164555288, model__learning_rate=0.05003266212462053, model__max_depth=8, model__n_estimators=279, model__subsample=0.524210174252318;, score=0.859 total time=   6.9s\n"
     ]
    },
    {
     "name": "stderr",
     "output_type": "stream",
     "text": [
      "c:\\Users\\Ola\\Documents\\Projekty\\credit_card_fraud_detection\\.venv\\Lib\\site-packages\\xgboost\\training.py:183: UserWarning: [22:08:01] WARNING: C:\\actions-runner\\_work\\xgboost\\xgboost\\src\\common\\error_msg.cc:27: The tree method `gpu_hist` is deprecated since 2.0.0. To use GPU training, set the `device` parameter to CUDA instead.\n",
      "\n",
      "    E.g. tree_method = \"hist\", device = \"cuda\"\n",
      "\n",
      "  bst.update(dtrain, iteration=i, fobj=obj)\n",
      "c:\\Users\\Ola\\Documents\\Projekty\\credit_card_fraud_detection\\.venv\\Lib\\site-packages\\xgboost\\core.py:2676: UserWarning: [22:08:07] WARNING: C:\\actions-runner\\_work\\xgboost\\xgboost\\src\\common\\error_msg.cc:27: The tree method `gpu_hist` is deprecated since 2.0.0. To use GPU training, set the `device` parameter to CUDA instead.\n",
      "\n",
      "    E.g. tree_method = \"hist\", device = \"cuda\"\n",
      "\n",
      "  if len(data.shape) != 1 and self.num_features() != data.shape[1]:\n"
     ]
    },
    {
     "name": "stdout",
     "output_type": "stream",
     "text": [
      "[CV 3/3] END model__colsample_bytree=0.8183167164555288, model__learning_rate=0.05003266212462053, model__max_depth=8, model__n_estimators=279, model__subsample=0.524210174252318;, score=0.835 total time=   6.8s\n"
     ]
    },
    {
     "name": "stderr",
     "output_type": "stream",
     "text": [
      "c:\\Users\\Ola\\Documents\\Projekty\\credit_card_fraud_detection\\.venv\\Lib\\site-packages\\xgboost\\training.py:183: UserWarning: [22:08:08] WARNING: C:\\actions-runner\\_work\\xgboost\\xgboost\\src\\common\\error_msg.cc:27: The tree method `gpu_hist` is deprecated since 2.0.0. To use GPU training, set the `device` parameter to CUDA instead.\n",
      "\n",
      "    E.g. tree_method = \"hist\", device = \"cuda\"\n",
      "\n",
      "  bst.update(dtrain, iteration=i, fobj=obj)\n",
      "c:\\Users\\Ola\\Documents\\Projekty\\credit_card_fraud_detection\\.venv\\Lib\\site-packages\\xgboost\\core.py:2676: UserWarning: [22:08:25] WARNING: C:\\actions-runner\\_work\\xgboost\\xgboost\\src\\common\\error_msg.cc:27: The tree method `gpu_hist` is deprecated since 2.0.0. To use GPU training, set the `device` parameter to CUDA instead.\n",
      "\n",
      "    E.g. tree_method = \"hist\", device = \"cuda\"\n",
      "\n",
      "  if len(data.shape) != 1 and self.num_features() != data.shape[1]:\n"
     ]
    },
    {
     "name": "stdout",
     "output_type": "stream",
     "text": [
      "[CV 1/3] END model__colsample_bytree=0.9782554846500664, model__learning_rate=0.09333957252774504, model__max_depth=9, model__n_estimators=988, model__subsample=0.9036913624975312;, score=0.820 total time=  17.8s\n"
     ]
    },
    {
     "name": "stderr",
     "output_type": "stream",
     "text": [
      "c:\\Users\\Ola\\Documents\\Projekty\\credit_card_fraud_detection\\.venv\\Lib\\site-packages\\xgboost\\training.py:183: UserWarning: [22:08:26] WARNING: C:\\actions-runner\\_work\\xgboost\\xgboost\\src\\common\\error_msg.cc:27: The tree method `gpu_hist` is deprecated since 2.0.0. To use GPU training, set the `device` parameter to CUDA instead.\n",
      "\n",
      "    E.g. tree_method = \"hist\", device = \"cuda\"\n",
      "\n",
      "  bst.update(dtrain, iteration=i, fobj=obj)\n",
      "c:\\Users\\Ola\\Documents\\Projekty\\credit_card_fraud_detection\\.venv\\Lib\\site-packages\\xgboost\\core.py:2676: UserWarning: [22:08:43] WARNING: C:\\actions-runner\\_work\\xgboost\\xgboost\\src\\common\\error_msg.cc:27: The tree method `gpu_hist` is deprecated since 2.0.0. To use GPU training, set the `device` parameter to CUDA instead.\n",
      "\n",
      "    E.g. tree_method = \"hist\", device = \"cuda\"\n",
      "\n",
      "  if len(data.shape) != 1 and self.num_features() != data.shape[1]:\n"
     ]
    },
    {
     "name": "stdout",
     "output_type": "stream",
     "text": [
      "[CV 2/3] END model__colsample_bytree=0.9782554846500664, model__learning_rate=0.09333957252774504, model__max_depth=9, model__n_estimators=988, model__subsample=0.9036913624975312;, score=0.860 total time=  18.6s\n"
     ]
    },
    {
     "name": "stderr",
     "output_type": "stream",
     "text": [
      "c:\\Users\\Ola\\Documents\\Projekty\\credit_card_fraud_detection\\.venv\\Lib\\site-packages\\xgboost\\training.py:183: UserWarning: [22:08:45] WARNING: C:\\actions-runner\\_work\\xgboost\\xgboost\\src\\common\\error_msg.cc:27: The tree method `gpu_hist` is deprecated since 2.0.0. To use GPU training, set the `device` parameter to CUDA instead.\n",
      "\n",
      "    E.g. tree_method = \"hist\", device = \"cuda\"\n",
      "\n",
      "  bst.update(dtrain, iteration=i, fobj=obj)\n",
      "c:\\Users\\Ola\\Documents\\Projekty\\credit_card_fraud_detection\\.venv\\Lib\\site-packages\\xgboost\\core.py:2676: UserWarning: [22:09:01] WARNING: C:\\actions-runner\\_work\\xgboost\\xgboost\\src\\common\\error_msg.cc:27: The tree method `gpu_hist` is deprecated since 2.0.0. To use GPU training, set the `device` parameter to CUDA instead.\n",
      "\n",
      "    E.g. tree_method = \"hist\", device = \"cuda\"\n",
      "\n",
      "  if len(data.shape) != 1 and self.num_features() != data.shape[1]:\n"
     ]
    },
    {
     "name": "stdout",
     "output_type": "stream",
     "text": [
      "[CV 3/3] END model__colsample_bytree=0.9782554846500664, model__learning_rate=0.09333957252774504, model__max_depth=9, model__n_estimators=988, model__subsample=0.9036913624975312;, score=0.836 total time=  17.2s\n"
     ]
    },
    {
     "name": "stderr",
     "output_type": "stream",
     "text": [
      "c:\\Users\\Ola\\Documents\\Projekty\\credit_card_fraud_detection\\.venv\\Lib\\site-packages\\xgboost\\training.py:183: UserWarning: [22:09:02] WARNING: C:\\actions-runner\\_work\\xgboost\\xgboost\\src\\common\\error_msg.cc:27: The tree method `gpu_hist` is deprecated since 2.0.0. To use GPU training, set the `device` parameter to CUDA instead.\n",
      "\n",
      "    E.g. tree_method = \"hist\", device = \"cuda\"\n",
      "\n",
      "  bst.update(dtrain, iteration=i, fobj=obj)\n",
      "c:\\Users\\Ola\\Documents\\Projekty\\credit_card_fraud_detection\\.venv\\Lib\\site-packages\\xgboost\\training.py:183: UserWarning: [22:09:25] WARNING: C:\\actions-runner\\_work\\xgboost\\xgboost\\src\\learner.cc:738: \n",
      "Parameters: { \"model__colsample_bytree\", \"model__learning_rate\", \"model__max_depth\", \"model__n_estimators\", \"model__subsample\" } are not used.\n",
      "\n",
      "  bst.update(dtrain, iteration=i, fobj=obj)\n"
     ]
    }
   ],
   "source": [
    "# I will be using X, y from original data and only applying SMOTE to training data\n",
    "skf = StratifiedKFold(n_splits=3)\n",
    "sm = SMOTE()\n",
    "pipeline_xgb = Pipeline([('over', SMOTE()), ('model', xgb.XGBClassifier(tree_method='gpu_hist', gpu_id=0))])\n",
    "\n",
    "results_us_test = []\n",
    "\n",
    "xgb_search_space = {\n",
    "    \"model__max_depth\": randint(3, 10),\n",
    "    \"model__learning_rate\": uniform(0.01, 0.1),\n",
    "    \"model__n_estimators\": randint(100, 1000),\n",
    "    \"model__subsample\": uniform(0.5, 0.5),\n",
    "    \"model__colsample_bytree\": uniform(0.5, 0.5),\n",
    "}\n",
    "   \n",
    "\n",
    "xgb_model = xgb.XGBClassifier()\n",
    "search_xgb_smote = RandomizedSearchCV(n_iter=10, estimator= pipeline_xgb, param_distributions=xgb_search_space,\n",
    "                              cv= skf, verbose= 3, n_jobs= 1, scoring=\"average_precision\")\n",
    "search_xgb_smote.fit(X_train, y_train)\n",
    "params_xgb_smote = search_xgb_smote.best_params_\n",
    "score_train_smote_xgb = search_xgb_smote.best_score_\n",
    "\n",
    "best_xgb_smote = xgb.XGBClassifier(**params_xgb_smote)\n",
    "best_xgb_smote.fit(X_train, y_train)\n",
    "pred_xgb_smote = best_xgb_smote.predict(X_test)\n"
   ]
  },
  {
   "cell_type": "code",
   "execution_count": 13,
   "metadata": {},
   "outputs": [
    {
     "data": {
      "text/plain": [
       "np.float64(0.8408401027861784)"
      ]
     },
     "execution_count": 13,
     "metadata": {},
     "output_type": "execute_result"
    }
   ],
   "source": [
    "score_train_smote_xgb"
   ]
  },
  {
   "cell_type": "code",
   "execution_count": 18,
   "metadata": {},
   "outputs": [
    {
     "name": "stdout",
     "output_type": "stream",
     "text": [
      "Results for XGBoost model with smote on original test: \n",
      "0.8074837701661896\n",
      "              precision    recall  f1-score   support\n",
      "\n",
      "           0       1.00      1.00      1.00     56864\n",
      "           1       0.96      0.84      0.90        98\n",
      "\n",
      "    accuracy                           1.00     56962\n",
      "   macro avg       0.98      0.92      0.95     56962\n",
      "weighted avg       1.00      1.00      1.00     56962\n",
      "\n"
     ]
    },
    {
     "data": {
      "text/plain": [
       "<sklearn.metrics._plot.confusion_matrix.ConfusionMatrixDisplay at 0x1b888bc76b0>"
      ]
     },
     "execution_count": 18,
     "metadata": {},
     "output_type": "execute_result"
    },
    {
     "data": {
      "image/png": "[encoded data removed]",
      "text/plain": [
       "<Figure size 640x480 with 2 Axes>"
      ]
     },
     "metadata": {},
     "output_type": "display_data"
    }
   ],
   "source": [
    "print(\"Results for XGBoost model with smote on original test: \")\n",
    "\n",
    "print(average_precision_score(y_test, pred_xgb_smote))\n",
    "print(classification_report(y_test, pred_xgb_smote))\n",
    "plt = ConfusionMatrixDisplay(confusion_matrix(y_test, pred_xgb_smote))\n",
    "plt.plot()\n"
   ]
  },
  {
   "cell_type": "markdown",
   "metadata": {},
   "source": [
    "Cost-Sensitive Learning"
   ]
  },
  {
   "cell_type": "code",
   "execution_count": null,
   "metadata": {},
   "outputs": [],
   "source": []
  }
 ],
 "metadata": {
  "kernelspec": {
   "display_name": ".venv",
   "language": "python",
   "name": "python3"
  },
  "language_info": {
   "codemirror_mode": {
    "name": "ipython",
    "version": 3
   },
   "file_extension": ".py",
   "mimetype": "text/x-python",
   "name": "python",
   "nbconvert_exporter": "python",
   "pygments_lexer": "ipython3",
   "version": "3.12.9"
  }
 },
 "nbformat": 4,
 "nbformat_minor": 2
}
